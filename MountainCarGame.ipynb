{
 "cells": [
  {
   "cell_type": "markdown",
   "metadata": {
    "colab_type": "text",
    "id": "view-in-github"
   },
   "source": [
    "<a href=\"https://colab.research.google.com/github/aayu-7/MountainCarGame-Using-ReinforcementLearning/blob/main/MountainCarGame.ipynb\" target=\"_parent\"><img src=\"https://colab.research.google.com/assets/colab-badge.svg\" alt=\"Open In Colab\"/></a>"
   ]
  },
  {
   "cell_type": "code",
   "execution_count": null,
   "metadata": {},
   "outputs": [
    {
     "name": "stdout",
     "output_type": "stream",
     "text": [
      "Requirement already satisfied: gym in c:\\users\\lenovo\\appdata\\local\\programs\\python\\python310\\lib\\site-packages (0.26.2)\n",
      "Requirement already satisfied: numpy>=1.18.0 in c:\\users\\lenovo\\appdata\\local\\programs\\python\\python310\\lib\\site-packages (from gym) (1.26.4)\n",
      "Requirement already satisfied: cloudpickle>=1.2.0 in c:\\users\\lenovo\\appdata\\local\\programs\\python\\python310\\lib\\site-packages (from gym) (3.1.0)\n",
      "Requirement already satisfied: gym_notices>=0.0.4 in c:\\users\\lenovo\\appdata\\local\\programs\\python\\python310\\lib\\site-packages (from gym) (0.0.8)\n"
     ]
    }
   ],
   "source": [
    "# Install the required library\n",
    "!pip install gym\n",
    "\n",
    "# Import required libraries\n",
    "import gym\n",
    "import numpy as np\n",
    "import matplotlib.pyplot as plt\n",
    "from IPython.display import HTML\n",
    "import glob\n",
    "import io\n",
    "from base64 import b64encode\n",
    "from gym.wrappers import RecordVideo\n",
    "\n",
    "# Function to discretize state space\n",
    "def discretize_state(state, bins):\n",
    "    position_bins = np.linspace(-1.2, 0.6, bins)  # Discretize position\n",
    "    velocity_bins = np.linspace(-0.07, 0.07, bins)  # Discretize velocity\n",
    "    position_idx = np.digitize(state[0], position_bins) - 1\n",
    "    velocity_idx = np.digitize(state[1], velocity_bins) - 1\n",
    "    return (position_idx, velocity_idx)\n",
    "\n",
    "# Function to display video\n",
    "def show_video():\n",
    "    video_path = glob.glob('./video/*.mp4')[0]\n",
    "    video = io.open(video_path, 'r+b').read()\n",
    "    encoded = b64encode(video)\n",
    "    return HTML(data=f'''\n",
    "        <video width=\"640\" height=\"480\" controls>\n",
    "            <source src=\"data:video/mp4;base64,{encoded.decode('ascii')}\" type=\"video/mp4\">\n",
    "        </video>''')\n",
    "\n",
    "# Initialize the environment\n",
    "env = gym.make(\"MountainCar-v0\")\n",
    "\n",
    "# Hyperparameters\n",
    "n_bins = 20  # Number of bins for discretization\n",
    "alpha = 0.1  # Learning rate\n",
    "gamma = 0.99  # Discount factor\n",
    "epsilon = 1.0  # Exploration rate\n",
    "epsilon_decay = 0.995\n",
    "epsilon_min = 0.01\n",
    "n_episodes = 5000\n",
    "\n",
    "# Initialize Q-table\n",
    "n_actions = env.action_space.n\n",
    "q_table = np.zeros((n_bins, n_bins, n_actions))\n",
    "\n",
    "# Training loop\n",
    "for episode in range(n_episodes):\n",
    "    state_raw, _ = env.reset()  # Updated reset for gym\n",
    "    state = discretize_state(state_raw, n_bins)\n",
    "    done = False\n",
    "    total_reward = 0\n",
    "\n",
    "    while not done:\n",
    "        # Choose action: exploration vs exploitation\n",
    "        if np.random.random() < epsilon:\n",
    "            action = env.action_space.sample()\n",
    "        else:\n",
    "            action = np.argmax(q_table[state])\n",
    "\n",
    "        # Perform action\n",
    "        next_state_raw, reward, done, _, _ = env.step(action)  # Modern step returns extra value\n",
    "        next_state = discretize_state(next_state_raw, n_bins)\n",
    "\n",
    "        # Update Q-value\n",
    "        best_next_action = np.argmax(q_table[next_state])\n",
    "        td_target = reward + gamma * q_table[next_state][best_next_action]\n",
    "        q_table[state][action] += alpha * (td_target - q_table[state][action])\n",
    "\n",
    "        state = next_state\n",
    "        total_reward += reward\n",
    "\n",
    "    # Decay epsilon\n",
    "    if epsilon > epsilon_min:\n",
    "        epsilon *= epsilon_decay\n",
    "\n",
    "    if episode % 100 == 0:\n",
    "        print(f\"Episode {episode}, Total Reward: {total_reward}\")\n",
    "\n",
    "print(\"Training Complete!\")\n",
    "\n",
    "# Close the current env before wrapping for recording\n",
    "env.close()\n",
    "\n",
    "# Wrap environment for recording\n",
    "env = gym.make(\"MountainCar-v0\")\n",
    "env = RecordVideo(env, \"./video\", episode_trigger=lambda x: x == 0)\n",
    "\n",
    "# Test the trained agent\n",
    "state_raw, _ = env.reset()  # Updated reset\n",
    "state = discretize_state(state_raw, n_bins)\n",
    "done = False\n",
    "while not done:\n",
    "    action = np.argmax(q_table[state])\n",
    "    next_state_raw, _, done, _, _ = env.step(action)  # Updated step\n",
    "    state = discretize_state(next_state_raw, n_bins)\n",
    "\n",
    "env.close()\n",
    "\n",
    "# Display the video\n",
    "show_video()\n"
   ]
  },
  {
   "cell_type": "code",
   "execution_count": null,
   "metadata": {
    "id": "eRMVFBNFSMN7"
   },
   "outputs": [],
   "source": []
  }
 ],
 "metadata": {
  "colab": {
   "authorship_tag": "ABX9TyPvGfGVIgDiP4Nz+Mkxrqtm",
   "include_colab_link": true,
   "provenance": []
  },
  "kernelspec": {
   "display_name": "Python 3",
   "name": "python3"
  },
  "language_info": {
   "codemirror_mode": {
    "name": "ipython",
    "version": 3
   },
   "file_extension": ".py",
   "mimetype": "text/x-python",
   "name": "python",
   "nbconvert_exporter": "python",
   "pygments_lexer": "ipython3",
   "version": "3.10.1"
  }
 },
 "nbformat": 4,
 "nbformat_minor": 0
}
